{
 "metadata": {
  "language_info": {
   "codemirror_mode": {
    "name": "ipython",
    "version": 3
   },
   "file_extension": ".py",
   "mimetype": "text/x-python",
   "name": "python",
   "nbconvert_exporter": "python",
   "pygments_lexer": "ipython3",
   "version": "3.8.5-final"
  },
  "orig_nbformat": 2,
  "kernelspec": {
   "name": "python3",
   "display_name": "Python 3.8.5 64-bit ('wikimlenv-ID9s4SQj')",
   "metadata": {
    "interpreter": {
     "hash": "e58b0427c6b067ecbc22351977d307886c6a8c93be73da29aa49aee006f118e2"
    }
   }
  }
 },
 "nbformat": 4,
 "nbformat_minor": 2,
 "cells": [
  {
   "cell_type": "code",
   "execution_count": 1,
   "metadata": {},
   "outputs": [],
   "source": [
    "import matplotlib.pyplot as plt\n",
    "import numpy as np\n",
    "import pandas as pd\n"
   ]
  },
  {
   "source": [
    "# Wrangle\n"
   ],
   "cell_type": "markdown",
   "metadata": {}
  },
  {
   "cell_type": "code",
   "execution_count": 11,
   "metadata": {},
   "outputs": [],
   "source": [
    "constructs=pd.read_csv('data/construct_measures.csv', index_col='variable')"
   ]
  },
  {
   "cell_type": "code",
   "execution_count": 16,
   "metadata": {},
   "outputs": [
    {
     "output_type": "stream",
     "name": "stdout",
     "text": [
      "USE1 - I use Wikipedia to develop my teaching materials\n"
     ]
    }
   ],
   "source": [
    "# Pick target\n",
    "target = 'USE1'\n",
    "print(target,'-', constructs.loc[target].statement)"
   ]
  },
  {
   "cell_type": "code",
   "execution_count": 32,
   "metadata": {},
   "outputs": [],
   "source": [
    "def wrangle(df):\n",
    "    df = df.copy()\n",
    "    \n",
    "    # Remap target to binary and drop neutral (3.0) values and null values\n",
    "    df[target] = df[target].map({5:'Yes', 4: 'Yes', 2: 'No', 1: 'No'})\n",
    "    df.dropna(subset=[target])\n",
    "\n",
    "    return df\n",
    "\n",
    "# \n",
    "df = wrangle(pd.read_csv('data/wiki4HE_train.csv',index_col=0))"
   ]
  },
  {
   "cell_type": "code",
   "execution_count": 33,
   "metadata": {},
   "outputs": [
    {
     "output_type": "execute_result",
     "data": {
      "text/plain": [
       "     AGE  GENDER  DOMAIN  PHD  YEARSEXP  UNIVERSITY  UOC_POSITION  \\\n",
       "365   34       0     6.0    0       3.0           1           6.0   \n",
       "207   44       0     4.0    0       1.0           1           6.0   \n",
       "566   42       1     6.0    0       6.0           1           6.0   \n",
       "674   45       1     1.0    0       3.0           1           6.0   \n",
       "300   40       0     6.0    1      18.0           1           6.0   \n",
       "432   58       0     4.0    1      30.0           1           6.0   \n",
       "334   41       0     2.0    0       3.0           1           6.0   \n",
       "531   43       1     3.0    0      15.0           1           6.0   \n",
       "24    38       0     5.0    1      14.0           1           2.0   \n",
       "28    35       0     6.0    0      10.0           1           3.0   \n",
       "\n",
       "     OTHER_POSITION  OTHERSTATUS  USERWIKI  ...  BI2  INC1  INC2  INC3  INC4  \\\n",
       "365             2.0          NaN       1.0  ...  5.0   5.0   5.0   4.0   5.0   \n",
       "207             2.0          NaN       1.0  ...  4.0   4.0   3.0   3.0   3.0   \n",
       "566             1.0          7.0       0.0  ...  3.0   4.0   4.0   2.0   3.0   \n",
       "674             2.0          NaN       0.0  ...  2.0   5.0   5.0   5.0   5.0   \n",
       "300             1.0          2.0       0.0  ...  NaN   NaN   NaN   NaN   NaN   \n",
       "432             1.0          2.0       0.0  ...  2.0   2.0   4.0   4.0   4.0   \n",
       "334             2.0          NaN       0.0  ...  2.0   3.0   2.0   2.0   3.0   \n",
       "531             2.0          NaN       1.0  ...  NaN   NaN   NaN   NaN   NaN   \n",
       "24              NaN          NaN       1.0  ...  3.0   5.0   5.0   3.0   2.0   \n",
       "28              NaN          NaN       0.0  ...  3.0   4.0   4.0   3.0   4.0   \n",
       "\n",
       "     EXP1  EXP2  EXP3  EXP4  EXP5  \n",
       "365   5.0   5.0   5.0   3.0   1.0  \n",
       "207   5.0   5.0   5.0   4.0   4.0  \n",
       "566   3.0   3.0   2.0   1.0   2.0  \n",
       "674   2.0   2.0   2.0   2.0   4.0  \n",
       "300   4.0   NaN   4.0   NaN   NaN  \n",
       "432   2.0   3.0   3.0   1.0   1.0  \n",
       "334   2.0   2.0   2.0   2.0   2.0  \n",
       "531   4.0   4.0   5.0   1.0   5.0  \n",
       "24    3.0   4.0   4.0   2.0   2.0  \n",
       "28    3.0   3.0   4.0   3.0   3.0  \n",
       "\n",
       "[10 rows x 53 columns]"
      ],
      "text/html": "<div>\n<style scoped>\n    .dataframe tbody tr th:only-of-type {\n        vertical-align: middle;\n    }\n\n    .dataframe tbody tr th {\n        vertical-align: top;\n    }\n\n    .dataframe thead th {\n        text-align: right;\n    }\n</style>\n<table border=\"1\" class=\"dataframe\">\n  <thead>\n    <tr style=\"text-align: right;\">\n      <th></th>\n      <th>AGE</th>\n      <th>GENDER</th>\n      <th>DOMAIN</th>\n      <th>PHD</th>\n      <th>YEARSEXP</th>\n      <th>UNIVERSITY</th>\n      <th>UOC_POSITION</th>\n      <th>OTHER_POSITION</th>\n      <th>OTHERSTATUS</th>\n      <th>USERWIKI</th>\n      <th>...</th>\n      <th>BI2</th>\n      <th>INC1</th>\n      <th>INC2</th>\n      <th>INC3</th>\n      <th>INC4</th>\n      <th>EXP1</th>\n      <th>EXP2</th>\n      <th>EXP3</th>\n      <th>EXP4</th>\n      <th>EXP5</th>\n    </tr>\n  </thead>\n  <tbody>\n    <tr>\n      <th>365</th>\n      <td>34</td>\n      <td>0</td>\n      <td>6.0</td>\n      <td>0</td>\n      <td>3.0</td>\n      <td>1</td>\n      <td>6.0</td>\n      <td>2.0</td>\n      <td>NaN</td>\n      <td>1.0</td>\n      <td>...</td>\n      <td>5.0</td>\n      <td>5.0</td>\n      <td>5.0</td>\n      <td>4.0</td>\n      <td>5.0</td>\n      <td>5.0</td>\n      <td>5.0</td>\n      <td>5.0</td>\n      <td>3.0</td>\n      <td>1.0</td>\n    </tr>\n    <tr>\n      <th>207</th>\n      <td>44</td>\n      <td>0</td>\n      <td>4.0</td>\n      <td>0</td>\n      <td>1.0</td>\n      <td>1</td>\n      <td>6.0</td>\n      <td>2.0</td>\n      <td>NaN</td>\n      <td>1.0</td>\n      <td>...</td>\n      <td>4.0</td>\n      <td>4.0</td>\n      <td>3.0</td>\n      <td>3.0</td>\n      <td>3.0</td>\n      <td>5.0</td>\n      <td>5.0</td>\n      <td>5.0</td>\n      <td>4.0</td>\n      <td>4.0</td>\n    </tr>\n    <tr>\n      <th>566</th>\n      <td>42</td>\n      <td>1</td>\n      <td>6.0</td>\n      <td>0</td>\n      <td>6.0</td>\n      <td>1</td>\n      <td>6.0</td>\n      <td>1.0</td>\n      <td>7.0</td>\n      <td>0.0</td>\n      <td>...</td>\n      <td>3.0</td>\n      <td>4.0</td>\n      <td>4.0</td>\n      <td>2.0</td>\n      <td>3.0</td>\n      <td>3.0</td>\n      <td>3.0</td>\n      <td>2.0</td>\n      <td>1.0</td>\n      <td>2.0</td>\n    </tr>\n    <tr>\n      <th>674</th>\n      <td>45</td>\n      <td>1</td>\n      <td>1.0</td>\n      <td>0</td>\n      <td>3.0</td>\n      <td>1</td>\n      <td>6.0</td>\n      <td>2.0</td>\n      <td>NaN</td>\n      <td>0.0</td>\n      <td>...</td>\n      <td>2.0</td>\n      <td>5.0</td>\n      <td>5.0</td>\n      <td>5.0</td>\n      <td>5.0</td>\n      <td>2.0</td>\n      <td>2.0</td>\n      <td>2.0</td>\n      <td>2.0</td>\n      <td>4.0</td>\n    </tr>\n    <tr>\n      <th>300</th>\n      <td>40</td>\n      <td>0</td>\n      <td>6.0</td>\n      <td>1</td>\n      <td>18.0</td>\n      <td>1</td>\n      <td>6.0</td>\n      <td>1.0</td>\n      <td>2.0</td>\n      <td>0.0</td>\n      <td>...</td>\n      <td>NaN</td>\n      <td>NaN</td>\n      <td>NaN</td>\n      <td>NaN</td>\n      <td>NaN</td>\n      <td>4.0</td>\n      <td>NaN</td>\n      <td>4.0</td>\n      <td>NaN</td>\n      <td>NaN</td>\n    </tr>\n    <tr>\n      <th>432</th>\n      <td>58</td>\n      <td>0</td>\n      <td>4.0</td>\n      <td>1</td>\n      <td>30.0</td>\n      <td>1</td>\n      <td>6.0</td>\n      <td>1.0</td>\n      <td>2.0</td>\n      <td>0.0</td>\n      <td>...</td>\n      <td>2.0</td>\n      <td>2.0</td>\n      <td>4.0</td>\n      <td>4.0</td>\n      <td>4.0</td>\n      <td>2.0</td>\n      <td>3.0</td>\n      <td>3.0</td>\n      <td>1.0</td>\n      <td>1.0</td>\n    </tr>\n    <tr>\n      <th>334</th>\n      <td>41</td>\n      <td>0</td>\n      <td>2.0</td>\n      <td>0</td>\n      <td>3.0</td>\n      <td>1</td>\n      <td>6.0</td>\n      <td>2.0</td>\n      <td>NaN</td>\n      <td>0.0</td>\n      <td>...</td>\n      <td>2.0</td>\n      <td>3.0</td>\n      <td>2.0</td>\n      <td>2.0</td>\n      <td>3.0</td>\n      <td>2.0</td>\n      <td>2.0</td>\n      <td>2.0</td>\n      <td>2.0</td>\n      <td>2.0</td>\n    </tr>\n    <tr>\n      <th>531</th>\n      <td>43</td>\n      <td>1</td>\n      <td>3.0</td>\n      <td>0</td>\n      <td>15.0</td>\n      <td>1</td>\n      <td>6.0</td>\n      <td>2.0</td>\n      <td>NaN</td>\n      <td>1.0</td>\n      <td>...</td>\n      <td>NaN</td>\n      <td>NaN</td>\n      <td>NaN</td>\n      <td>NaN</td>\n      <td>NaN</td>\n      <td>4.0</td>\n      <td>4.0</td>\n      <td>5.0</td>\n      <td>1.0</td>\n      <td>5.0</td>\n    </tr>\n    <tr>\n      <th>24</th>\n      <td>38</td>\n      <td>0</td>\n      <td>5.0</td>\n      <td>1</td>\n      <td>14.0</td>\n      <td>1</td>\n      <td>2.0</td>\n      <td>NaN</td>\n      <td>NaN</td>\n      <td>1.0</td>\n      <td>...</td>\n      <td>3.0</td>\n      <td>5.0</td>\n      <td>5.0</td>\n      <td>3.0</td>\n      <td>2.0</td>\n      <td>3.0</td>\n      <td>4.0</td>\n      <td>4.0</td>\n      <td>2.0</td>\n      <td>2.0</td>\n    </tr>\n    <tr>\n      <th>28</th>\n      <td>35</td>\n      <td>0</td>\n      <td>6.0</td>\n      <td>0</td>\n      <td>10.0</td>\n      <td>1</td>\n      <td>3.0</td>\n      <td>NaN</td>\n      <td>NaN</td>\n      <td>0.0</td>\n      <td>...</td>\n      <td>3.0</td>\n      <td>4.0</td>\n      <td>4.0</td>\n      <td>3.0</td>\n      <td>4.0</td>\n      <td>3.0</td>\n      <td>3.0</td>\n      <td>4.0</td>\n      <td>3.0</td>\n      <td>3.0</td>\n    </tr>\n  </tbody>\n</table>\n<p>10 rows × 53 columns</p>\n</div>"
     },
     "metadata": {},
     "execution_count": 33
    }
   ],
   "source": [
    "df.sample(10)"
   ]
  },
  {
   "source": [
    "# Split Data"
   ],
   "cell_type": "markdown",
   "metadata": {}
  },
  {
   "source": [
    "# Baseline Metrics"
   ],
   "cell_type": "markdown",
   "metadata": {}
  },
  {
   "source": [
    "# Build Base Model"
   ],
   "cell_type": "markdown",
   "metadata": {}
  },
  {
   "source": [
    "# Check Metrics"
   ],
   "cell_type": "markdown",
   "metadata": {}
  },
  {
   "source": [
    "# Tune parameters"
   ],
   "cell_type": "markdown",
   "metadata": {}
  },
  {
   "source": [
    "# Communicate Results"
   ],
   "cell_type": "markdown",
   "metadata": {}
  },
  {
   "cell_type": "code",
   "execution_count": null,
   "metadata": {},
   "outputs": [],
   "source": []
  }
 ]
}