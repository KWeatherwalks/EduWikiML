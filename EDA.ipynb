{
 "metadata": {
  "language_info": {
   "codemirror_mode": {
    "name": "ipython",
    "version": 3
   },
   "file_extension": ".py",
   "mimetype": "text/x-python",
   "name": "python",
   "nbconvert_exporter": "python",
   "pygments_lexer": "ipython3",
   "version": "3.8.5-final"
  },
  "orig_nbformat": 2,
  "kernelspec": {
   "name": "python3",
   "display_name": "Python 3.8.5 64-bit ('wikimlenv-ID9s4SQj')",
   "metadata": {
    "interpreter": {
     "hash": "e58b0427c6b067ecbc22351977d307886c6a8c93be73da29aa49aee006f118e2"
    }
   }
  }
 },
 "nbformat": 4,
 "nbformat_minor": 2,
 "cells": [
  {
   "source": [
    "# Exploratory Data Analysis"
   ],
   "cell_type": "markdown",
   "metadata": {}
  },
  {
   "cell_type": "code",
   "execution_count": 7,
   "metadata": {},
   "outputs": [],
   "source": [
    "import numpy as np \n",
    "import pandas as pd "
   ]
  },
  {
   "cell_type": "code",
   "execution_count": 8,
   "metadata": {},
   "outputs": [
    {
     "output_type": "execute_result",
     "data": {
      "text/plain": [
       "   AGE  GENDER  DOMAIN  PhD  YEARSEXP  UNIVERSITY  UOC_POSITION  \\\n",
       "0   40       0     2.0    1      14.0           1           2.0   \n",
       "1   42       0     5.0    1      18.0           1           2.0   \n",
       "2   37       0     4.0    1      13.0           1           3.0   \n",
       "3   40       0     4.0    0      13.0           1           3.0   \n",
       "4   51       0     6.0    0       8.0           1           3.0   \n",
       "\n",
       "   OTHER_POSITION  OTHERSTATUS  USERWIKI  ...  BI2  Inc1  Inc2  Inc3  Inc4  \\\n",
       "0             NaN          NaN       0.0  ...  3.0   5.0   5.0   5.0   5.0   \n",
       "1             NaN          NaN       0.0  ...  2.0   4.0   4.0   3.0   4.0   \n",
       "2             NaN          NaN       0.0  ...  1.0   5.0   3.0   5.0   5.0   \n",
       "3             NaN          NaN       0.0  ...  3.0   3.0   4.0   4.0   3.0   \n",
       "4             NaN          NaN       1.0  ...  5.0   5.0   5.0   4.0   4.0   \n",
       "\n",
       "   Exp1  Exp2  Exp3  Exp4  Exp5  \n",
       "0   4.0   4.0   4.0   1.0   2.0  \n",
       "1   2.0   2.0   4.0   2.0   4.0  \n",
       "2   2.0   2.0   2.0   1.0   3.0  \n",
       "3   4.0   4.0   3.0   3.0   4.0  \n",
       "4   5.0   5.0   5.0   4.0   4.0  \n",
       "\n",
       "[5 rows x 53 columns]"
      ],
      "text/html": "<div>\n<style scoped>\n    .dataframe tbody tr th:only-of-type {\n        vertical-align: middle;\n    }\n\n    .dataframe tbody tr th {\n        vertical-align: top;\n    }\n\n    .dataframe thead th {\n        text-align: right;\n    }\n</style>\n<table border=\"1\" class=\"dataframe\">\n  <thead>\n    <tr style=\"text-align: right;\">\n      <th></th>\n      <th>AGE</th>\n      <th>GENDER</th>\n      <th>DOMAIN</th>\n      <th>PhD</th>\n      <th>YEARSEXP</th>\n      <th>UNIVERSITY</th>\n      <th>UOC_POSITION</th>\n      <th>OTHER_POSITION</th>\n      <th>OTHERSTATUS</th>\n      <th>USERWIKI</th>\n      <th>...</th>\n      <th>BI2</th>\n      <th>Inc1</th>\n      <th>Inc2</th>\n      <th>Inc3</th>\n      <th>Inc4</th>\n      <th>Exp1</th>\n      <th>Exp2</th>\n      <th>Exp3</th>\n      <th>Exp4</th>\n      <th>Exp5</th>\n    </tr>\n  </thead>\n  <tbody>\n    <tr>\n      <th>0</th>\n      <td>40</td>\n      <td>0</td>\n      <td>2.0</td>\n      <td>1</td>\n      <td>14.0</td>\n      <td>1</td>\n      <td>2.0</td>\n      <td>NaN</td>\n      <td>NaN</td>\n      <td>0.0</td>\n      <td>...</td>\n      <td>3.0</td>\n      <td>5.0</td>\n      <td>5.0</td>\n      <td>5.0</td>\n      <td>5.0</td>\n      <td>4.0</td>\n      <td>4.0</td>\n      <td>4.0</td>\n      <td>1.0</td>\n      <td>2.0</td>\n    </tr>\n    <tr>\n      <th>1</th>\n      <td>42</td>\n      <td>0</td>\n      <td>5.0</td>\n      <td>1</td>\n      <td>18.0</td>\n      <td>1</td>\n      <td>2.0</td>\n      <td>NaN</td>\n      <td>NaN</td>\n      <td>0.0</td>\n      <td>...</td>\n      <td>2.0</td>\n      <td>4.0</td>\n      <td>4.0</td>\n      <td>3.0</td>\n      <td>4.0</td>\n      <td>2.0</td>\n      <td>2.0</td>\n      <td>4.0</td>\n      <td>2.0</td>\n      <td>4.0</td>\n    </tr>\n    <tr>\n      <th>2</th>\n      <td>37</td>\n      <td>0</td>\n      <td>4.0</td>\n      <td>1</td>\n      <td>13.0</td>\n      <td>1</td>\n      <td>3.0</td>\n      <td>NaN</td>\n      <td>NaN</td>\n      <td>0.0</td>\n      <td>...</td>\n      <td>1.0</td>\n      <td>5.0</td>\n      <td>3.0</td>\n      <td>5.0</td>\n      <td>5.0</td>\n      <td>2.0</td>\n      <td>2.0</td>\n      <td>2.0</td>\n      <td>1.0</td>\n      <td>3.0</td>\n    </tr>\n    <tr>\n      <th>3</th>\n      <td>40</td>\n      <td>0</td>\n      <td>4.0</td>\n      <td>0</td>\n      <td>13.0</td>\n      <td>1</td>\n      <td>3.0</td>\n      <td>NaN</td>\n      <td>NaN</td>\n      <td>0.0</td>\n      <td>...</td>\n      <td>3.0</td>\n      <td>3.0</td>\n      <td>4.0</td>\n      <td>4.0</td>\n      <td>3.0</td>\n      <td>4.0</td>\n      <td>4.0</td>\n      <td>3.0</td>\n      <td>3.0</td>\n      <td>4.0</td>\n    </tr>\n    <tr>\n      <th>4</th>\n      <td>51</td>\n      <td>0</td>\n      <td>6.0</td>\n      <td>0</td>\n      <td>8.0</td>\n      <td>1</td>\n      <td>3.0</td>\n      <td>NaN</td>\n      <td>NaN</td>\n      <td>1.0</td>\n      <td>...</td>\n      <td>5.0</td>\n      <td>5.0</td>\n      <td>5.0</td>\n      <td>4.0</td>\n      <td>4.0</td>\n      <td>5.0</td>\n      <td>5.0</td>\n      <td>5.0</td>\n      <td>4.0</td>\n      <td>4.0</td>\n    </tr>\n  </tbody>\n</table>\n<p>5 rows × 53 columns</p>\n</div>"
     },
     "metadata": {},
     "execution_count": 8
    }
   ],
   "source": [
    "# Split dataset into train and test files for clarity\n",
    "df = pd.read_csv('data/wiki4HE.csv', delimiter=';', na_values='?')\n",
    "df.head()"
   ]
  },
  {
   "cell_type": "code",
   "execution_count": 9,
   "metadata": {},
   "outputs": [],
   "source": [
    "# Hold off testing set\n",
    "test_size = int(0.2*len(df))\n",
    "\n",
    "# Set random seed and select random indices\n",
    "rng = np.random.RandomState(42) \n",
    "rand_rows = rng.choice(list(df.index), size=test_size, replace=False)\n",
    "\n",
    "# Split data into training set and testing subsets\n",
    "df_test = df.loc[rand_rows]\n",
    "df_train = df.drop(labels=rand_rows)"
   ]
  },
  {
   "cell_type": "code",
   "execution_count": 10,
   "metadata": {},
   "outputs": [
    {
     "output_type": "execute_result",
     "data": {
      "text/plain": [
       "(182, 53)"
      ]
     },
     "metadata": {},
     "execution_count": 10
    }
   ],
   "source": [
    "df_test.shape"
   ]
  },
  {
   "cell_type": "code",
   "execution_count": 11,
   "metadata": {},
   "outputs": [
    {
     "output_type": "execute_result",
     "data": {
      "text/plain": [
       "(731, 53)"
      ]
     },
     "metadata": {},
     "execution_count": 11
    }
   ],
   "source": [
    "df_train.shape"
   ]
  }
 ]
}